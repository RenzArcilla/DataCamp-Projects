{
 "cells": [
  {
   "cell_type": "markdown",
   "id": "fe0ea788-58dd-459e-8976-fafdb5c05c6d",
   "metadata": {},
   "source": [
    "![New York City schoolbus](schoolbus.jpg)\n",
    "\n",
    "Photo by [Jannis Lucas](https://unsplash.com/@jannis_lucas) on [Unsplash](https://unsplash.com).\n",
    "<br>\n",
    "\n",
    "Every year, American high school students take SATs, which are standardized tests intended to measure literacy, numeracy, and writing skills. There are three sections - reading, math, and writing, each with a **maximum score of 800 points**. These tests are extremely important for students and colleges, as they play a pivotal role in the admissions process.\n",
    "\n",
    "Analyzing the performance of schools is important for a variety of stakeholders, including policy and education professionals, researchers, government, and even parents considering which school their children should attend. \n",
    "\n",
    "You have been provided with a dataset called `schools.csv`, which is previewed below.\n",
    "\n",
    "You have been tasked with answering three key questions about New York City (NYC) public school SAT performance."
   ]
  },
  {
   "cell_type": "code",
   "execution_count": 1,
   "id": "d0eb4f16-5a99-460d-a5ba-706b7ef0bbe7",
   "metadata": {
    "executionCancelledAt": null,
    "executionTime": 26,
    "id": "bA5ajAmk7XH6",
    "lastExecutedAt": 1751705214166,
    "lastExecutedByKernel": "851ea821-d573-4caa-a5c6-893274c2fdc5",
    "lastScheduledRunId": null,
    "lastSuccessfullyExecutedCode": "# Re-run this cell \nimport pandas as pd\n\n# Read in the data\nschools = pd.read_csv(\"schools.csv\")\n\n# Preview the data\nschools.head()\n",
    "outputsMetadata": {
     "0": {
      "height": 264,
      "tableState": {
       "customFilter": {
        "const": {
         "type": "boolean",
         "valid": true,
         "value": true
        },
        "id": "44e9b239-df1e-4032-81a5-90855f73137a",
        "nodeType": "const"
       }
      },
      "type": "dataFrame"
     }
    }
   },
   "outputs": [
    {
     "data": {
      "text/html": [
       "<div>\n",
       "<style scoped>\n",
       "    .dataframe tbody tr th:only-of-type {\n",
       "        vertical-align: middle;\n",
       "    }\n",
       "\n",
       "    .dataframe tbody tr th {\n",
       "        vertical-align: top;\n",
       "    }\n",
       "\n",
       "    .dataframe thead th {\n",
       "        text-align: right;\n",
       "    }\n",
       "</style>\n",
       "<table border=\"1\" class=\"dataframe\">\n",
       "  <thead>\n",
       "    <tr style=\"text-align: right;\">\n",
       "      <th></th>\n",
       "      <th>school_name</th>\n",
       "      <th>borough</th>\n",
       "      <th>building_code</th>\n",
       "      <th>average_math</th>\n",
       "      <th>average_reading</th>\n",
       "      <th>average_writing</th>\n",
       "      <th>percent_tested</th>\n",
       "    </tr>\n",
       "  </thead>\n",
       "  <tbody>\n",
       "    <tr>\n",
       "      <th>0</th>\n",
       "      <td>New Explorations into Science, Technology and ...</td>\n",
       "      <td>Manhattan</td>\n",
       "      <td>M022</td>\n",
       "      <td>657</td>\n",
       "      <td>601</td>\n",
       "      <td>601</td>\n",
       "      <td>NaN</td>\n",
       "    </tr>\n",
       "    <tr>\n",
       "      <th>1</th>\n",
       "      <td>Essex Street Academy</td>\n",
       "      <td>Manhattan</td>\n",
       "      <td>M445</td>\n",
       "      <td>395</td>\n",
       "      <td>411</td>\n",
       "      <td>387</td>\n",
       "      <td>78.9</td>\n",
       "    </tr>\n",
       "    <tr>\n",
       "      <th>2</th>\n",
       "      <td>Lower Manhattan Arts Academy</td>\n",
       "      <td>Manhattan</td>\n",
       "      <td>M445</td>\n",
       "      <td>418</td>\n",
       "      <td>428</td>\n",
       "      <td>415</td>\n",
       "      <td>65.1</td>\n",
       "    </tr>\n",
       "    <tr>\n",
       "      <th>3</th>\n",
       "      <td>High School for Dual Language and Asian Studies</td>\n",
       "      <td>Manhattan</td>\n",
       "      <td>M445</td>\n",
       "      <td>613</td>\n",
       "      <td>453</td>\n",
       "      <td>463</td>\n",
       "      <td>95.9</td>\n",
       "    </tr>\n",
       "    <tr>\n",
       "      <th>4</th>\n",
       "      <td>Henry Street School for International Studies</td>\n",
       "      <td>Manhattan</td>\n",
       "      <td>M056</td>\n",
       "      <td>410</td>\n",
       "      <td>406</td>\n",
       "      <td>381</td>\n",
       "      <td>59.7</td>\n",
       "    </tr>\n",
       "  </tbody>\n",
       "</table>\n",
       "</div>"
      ],
      "text/plain": [
       "                                         school_name    borough building_code  \\\n",
       "0  New Explorations into Science, Technology and ...  Manhattan          M022   \n",
       "1                               Essex Street Academy  Manhattan          M445   \n",
       "2                       Lower Manhattan Arts Academy  Manhattan          M445   \n",
       "3    High School for Dual Language and Asian Studies  Manhattan          M445   \n",
       "4      Henry Street School for International Studies  Manhattan          M056   \n",
       "\n",
       "   average_math  average_reading  average_writing  percent_tested  \n",
       "0           657              601              601             NaN  \n",
       "1           395              411              387            78.9  \n",
       "2           418              428              415            65.1  \n",
       "3           613              453              463            95.9  \n",
       "4           410              406              381            59.7  "
      ]
     },
     "execution_count": 1,
     "metadata": {},
     "output_type": "execute_result"
    }
   ],
   "source": [
    "# Re-run this cell \n",
    "import pandas as pd\n",
    "\n",
    "# Read in the data\n",
    "schools = pd.read_csv(\"schools.csv\")\n",
    "\n",
    "# Preview the data\n",
    "schools.head()\n"
   ]
  },
  {
   "cell_type": "code",
   "execution_count": 2,
   "id": "739601e7-30fc-4466-964a-b011716612b9",
   "metadata": {
    "executionCancelledAt": null,
    "executionTime": null,
    "lastExecutedAt": null,
    "lastExecutedByKernel": null,
    "lastScheduledRunId": null,
    "lastSuccessfullyExecutedCode": null,
    "outputsMetadata": {
     "0": {
      "height": 248,
      "type": "stream"
     }
    }
   },
   "outputs": [
    {
     "name": "stdout",
     "output_type": "stream",
     "text": [
      "                                           school_name  average_math\n",
      "88                              Stuyvesant High School           754\n",
      "170                       Bronx High School of Science           714\n",
      "93                 Staten Island Technical High School           711\n",
      "365  Queens High School for the Sciences at York Co...           701\n",
      "68   High School for Mathematics, Science, and Engi...           683\n",
      "280                     Brooklyn Technical High School           682\n",
      "333                        Townsend Harris High School           680\n",
      "174  High School of American Studies at Lehman College           669\n",
      "0    New Explorations into Science, Technology and ...           657\n",
      "45                       Eleanor Roosevelt High School           641\n"
     ]
    }
   ],
   "source": [
    "# Which NYC schools have the best math results?\n",
    "# Save your results in a pandas DataFrame called best_math_schools, including \"school_name\" and \"average_math\" columns, sorted by \"average_math\" in descending order.\n",
    "\n",
    "schools_sorted_by_math_scores = schools[[\"school_name\", \"average_math\"]].sort_values(\"average_math\", ascending=False)\n",
    "best_math_schools = schools_sorted_by_math_scores[schools_sorted_by_math_scores[\"average_math\"] >= 800*.80]\n",
    "print(best_math_schools)"
   ]
  },
  {
   "cell_type": "code",
   "execution_count": 3,
   "id": "21144cd3-3e5f-486a-ac62-a047f1aadd6a",
   "metadata": {
    "executionCancelledAt": null,
    "executionTime": 63,
    "lastExecutedAt": 1751705214284,
    "lastExecutedByKernel": "851ea821-d573-4caa-a5c6-893274c2fdc5",
    "lastScheduledRunId": null,
    "lastSuccessfullyExecutedCode": "# What are the top 10 performing schools based on the combined SAT scores?\n# Save your results as a pandas DataFrame called top_10_schools containing the \"school_name\" and a new column named \"total_SAT\", with results ordered by \"total_SAT\" in descending order (\"total_SAT\" being the sum of math, reading, and writing scores).\n\nschools[\"total_SAT\"] = schools[[\"average_math\", \"average_reading\", \"average_writing\"]].sum(axis=1)\ntop_schools = schools[[\"school_name\", \"total_SAT\"]].sort_values(\"total_SAT\", ascending=False)\ntop_10_schools = top_schools.iloc[0:10]\nprint(top_10_schools)",
    "outputsMetadata": {
     "0": {
      "height": 248,
      "type": "stream"
     }
    }
   },
   "outputs": [
    {
     "name": "stdout",
     "output_type": "stream",
     "text": [
      "                                           school_name  total_SAT\n",
      "88                              Stuyvesant High School       2144\n",
      "170                       Bronx High School of Science       2041\n",
      "93                 Staten Island Technical High School       2041\n",
      "174  High School of American Studies at Lehman College       2013\n",
      "333                        Townsend Harris High School       1981\n",
      "365  Queens High School for the Sciences at York Co...       1947\n",
      "5                       Bard High School Early College       1914\n",
      "280                     Brooklyn Technical High School       1896\n",
      "45                       Eleanor Roosevelt High School       1889\n",
      "68   High School for Mathematics, Science, and Engi...       1889\n"
     ]
    }
   ],
   "source": [
    "# What are the top 10 performing schools based on the combined SAT scores?\n",
    "# Save your results as a pandas DataFrame called top_10_schools containing the \"school_name\" and a new column named \"total_SAT\", with results ordered by \"total_SAT\" in descending order (\"total_SAT\" being the sum of math, reading, and writing scores).\n",
    "\n",
    "schools[\"total_SAT\"] = schools[[\"average_math\", \"average_reading\", \"average_writing\"]].sum(axis=1)\n",
    "top_schools = schools[[\"school_name\", \"total_SAT\"]].sort_values(\"total_SAT\", ascending=False)\n",
    "top_10_schools = top_schools.iloc[0:10]\n",
    "print(top_10_schools)"
   ]
  },
  {
   "cell_type": "code",
   "execution_count": 4,
   "id": "de761ae5-3519-484b-abd4-82b5e490c738",
   "metadata": {
    "executionCancelledAt": null,
    "executionTime": 53,
    "lastExecutedAt": 1751705214337,
    "lastExecutedByKernel": "851ea821-d573-4caa-a5c6-893274c2fdc5",
    "lastScheduledRunId": null,
    "lastSuccessfullyExecutedCode": "# Which single borough has the largest standard deviation in the combined SAT score?\n# Save your results as a pandas DataFrame called largest_std_dev.\n# The DataFrame should contain one row, with:\n    # \"borough\" - the name of the NYC borough with the largest standard deviation of \"total_SAT\".\n    # \"num_schools\" - the number of schools in the borough.\n    # \"average_SAT\" - the mean of \"total_SAT\".\n    # \"std_SAT\" - the standard deviation of \"total_SAT\".\n# Round all numeric values to two decimal places.\n\n# searching for the largest std_dev\nprint(schools.groupby(\"borough\")[\"total_SAT\"].std().head())",
    "outputsMetadata": {
     "0": {
      "height": 164,
      "type": "stream"
     }
    }
   },
   "outputs": [
    {
     "name": "stdout",
     "output_type": "stream",
     "text": [
      "borough\n",
      "Bronx            150.393901\n",
      "Brooklyn         154.868427\n",
      "Manhattan        230.294140\n",
      "Queens           195.252899\n",
      "Staten Island    222.303596\n",
      "Name: total_SAT, dtype: float64\n"
     ]
    }
   ],
   "source": [
    "# Which single borough has the largest standard deviation in the combined SAT score?\n",
    "# Save your results as a pandas DataFrame called largest_std_dev.\n",
    "# The DataFrame should contain one row, with:\n",
    "    # \"borough\" - the name of the NYC borough with the largest standard deviation of \"total_SAT\".\n",
    "    # \"num_schools\" - the number of schools in the borough.\n",
    "    # \"average_SAT\" - the mean of \"total_SAT\".\n",
    "    # \"std_SAT\" - the standard deviation of \"total_SAT\".\n",
    "# Round all numeric values to two decimal places.\n",
    "\n",
    "# searching for the largest std_dev\n",
    "print(schools.groupby(\"borough\")[\"total_SAT\"].std().head())"
   ]
  },
  {
   "cell_type": "code",
   "execution_count": 5,
   "id": "c132c115-3c66-43ad-a351-c913ea75e423",
   "metadata": {
    "executionCancelledAt": null,
    "executionTime": 51,
    "lastExecutedAt": 1751705214388,
    "lastExecutedByKernel": "851ea821-d573-4caa-a5c6-893274c2fdc5",
    "lastScheduledRunId": null,
    "lastSuccessfullyExecutedCode": "# reset the pivot table to rename column\nnew_df = pd.DataFrame(schools.groupby(\"borough\")[\"total_SAT\"].std())\nnew_df = new_df.reset_index()\nprint(new_df.head())\n\nprint(\"\\n\" * 2)\n\nnew_df_renamed = new_df.rename(columns={'total_SAT': 'std_SAT'})\nprint(new_df_renamed)",
    "outputsMetadata": {
     "0": {
      "height": 332,
      "type": "stream"
     }
    }
   },
   "outputs": [
    {
     "name": "stdout",
     "output_type": "stream",
     "text": [
      "         borough   total_SAT\n",
      "0          Bronx  150.393901\n",
      "1       Brooklyn  154.868427\n",
      "2      Manhattan  230.294140\n",
      "3         Queens  195.252899\n",
      "4  Staten Island  222.303596\n",
      "\n",
      "\n",
      "\n",
      "         borough     std_SAT\n",
      "0          Bronx  150.393901\n",
      "1       Brooklyn  154.868427\n",
      "2      Manhattan  230.294140\n",
      "3         Queens  195.252899\n",
      "4  Staten Island  222.303596\n"
     ]
    }
   ],
   "source": [
    "# reset the pivot table to rename column\n",
    "new_df = pd.DataFrame(schools.groupby(\"borough\")[\"total_SAT\"].std())\n",
    "new_df = new_df.reset_index()\n",
    "print(new_df.head())\n",
    "\n",
    "print(\"\\n\" * 2)\n",
    "\n",
    "new_df_renamed = new_df.rename(columns={'total_SAT': 'std_SAT'})\n",
    "print(new_df_renamed)"
   ]
  },
  {
   "cell_type": "code",
   "execution_count": 6,
   "id": "34aa78fe-d41b-4d47-b23c-664d49aebe2c",
   "metadata": {
    "executionCancelledAt": null,
    "executionTime": 53,
    "lastExecutedAt": 1751705214441,
    "lastExecutedByKernel": "851ea821-d573-4caa-a5c6-893274c2fdc5",
    "lastScheduledRunId": null,
    "lastSuccessfullyExecutedCode": "# sorting the values to get the borough with the highest std\nnew_df_sorted = new_df_renamed.sort_values(\"std_SAT\", ascending=False)\nprint(new_df_sorted.head())",
    "outputsMetadata": {
     "0": {
      "height": 143,
      "type": "stream"
     }
    }
   },
   "outputs": [
    {
     "name": "stdout",
     "output_type": "stream",
     "text": [
      "         borough     std_SAT\n",
      "2      Manhattan  230.294140\n",
      "4  Staten Island  222.303596\n",
      "3         Queens  195.252899\n",
      "1       Brooklyn  154.868427\n",
      "0          Bronx  150.393901\n"
     ]
    }
   ],
   "source": [
    "# sorting the values to get the borough with the highest std\n",
    "new_df_sorted = new_df_renamed.sort_values(\"std_SAT\", ascending=False)\n",
    "print(new_df_sorted.head())"
   ]
  },
  {
   "cell_type": "code",
   "execution_count": 7,
   "id": "30d6e675-585c-48c2-8ac4-1c57be098d2b",
   "metadata": {
    "executionCancelledAt": null,
    "executionTime": 55,
    "lastExecutedAt": 1751705214496,
    "lastExecutedByKernel": "851ea821-d573-4caa-a5c6-893274c2fdc5",
    "lastScheduledRunId": null,
    "lastSuccessfullyExecutedCode": "# Finding the number of schools in Manhattan\nschools_in_manhattan = schools[schools[\"borough\"] == \"Manhattan\"].count()\nprint(schools_in_manhattan)\nschools_in_manhattan_count = schools_in_manhattan.iloc[0]\nprint(schools_in_manhattan_count)",
    "outputsMetadata": {
     "0": {
      "height": 227,
      "type": "stream"
     }
    }
   },
   "outputs": [
    {
     "name": "stdout",
     "output_type": "stream",
     "text": [
      "school_name        89\n",
      "borough            89\n",
      "building_code      89\n",
      "average_math       89\n",
      "average_reading    89\n",
      "average_writing    89\n",
      "percent_tested     84\n",
      "total_SAT          89\n",
      "dtype: int64\n",
      "89\n"
     ]
    }
   ],
   "source": [
    "# Finding the number of schools in Manhattan\n",
    "schools_in_manhattan = schools[schools[\"borough\"] == \"Manhattan\"].count()\n",
    "print(schools_in_manhattan)\n",
    "schools_in_manhattan_count = schools_in_manhattan.iloc[0]\n",
    "print(schools_in_manhattan_count)"
   ]
  },
  {
   "cell_type": "code",
   "execution_count": 8,
   "id": "913e603f-838f-4e3e-ac59-0c6eb197c7f3",
   "metadata": {
    "executionCancelledAt": null,
    "executionTime": 53,
    "lastExecutedAt": 1751705214549,
    "lastExecutedByKernel": "851ea821-d573-4caa-a5c6-893274c2fdc5",
    "lastScheduledRunId": null,
    "lastSuccessfullyExecutedCode": "# Finding the average SAT in Manhattan\nmanhattan_avg_sat = schools[schools[\"borough\"]== \"Manhattan\"][\"total_SAT\"].mean()\nprint(manhattan_avg_sat)",
    "outputsMetadata": {
     "0": {
      "height": 38,
      "type": "stream"
     }
    }
   },
   "outputs": [
    {
     "name": "stdout",
     "output_type": "stream",
     "text": [
      "1340.1348314606741\n"
     ]
    }
   ],
   "source": [
    "# Finding the average SAT in Manhattan\n",
    "manhattan_avg_sat = schools[schools[\"borough\"]== \"Manhattan\"][\"total_SAT\"].mean()\n",
    "print(manhattan_avg_sat)"
   ]
  },
  {
   "cell_type": "code",
   "execution_count": 9,
   "id": "fab60ae9-3707-4a32-844f-6c60ec13b72a",
   "metadata": {
    "executionCancelledAt": null,
    "executionTime": 55,
    "lastExecutedAt": 1751705214604,
    "lastExecutedByKernel": "851ea821-d573-4caa-a5c6-893274c2fdc5",
    "lastScheduledRunId": null,
    "lastSuccessfullyExecutedCode": "# Save your results as a pandas DataFrame called largest_std_dev.\n# The DataFrame should contain one row, with:\n    # \"borough\" - the name of the NYC borough with the largest standard deviation of \"total_SAT\".\n    # \"num_schools\" - the number of schools in the borough.\n    # \"average_SAT\" - the mean of \"total_SAT\".\n    # \"std_SAT\" - the standard deviation of \"total_SAT\".\n# Round all numeric values to two decimal places.\n\nresult_dict = {\"borough\": new_df_sorted.iloc[0]['borough'],\n              \"num_schools\": schools_in_manhattan_count,\n              \"average_SAT\": round(manhattan_avg_sat, 2),\n              \"std_SAT\": round(new_df_sorted.iloc[0]['std_SAT'], 2)}\nlargest_std_dev = pd.DataFrame([result_dict])\nprint(largest_std_dev)",
    "outputsMetadata": {
     "0": {
      "height": 59,
      "type": "stream"
     }
    }
   },
   "outputs": [
    {
     "name": "stdout",
     "output_type": "stream",
     "text": [
      "     borough  num_schools  average_SAT  std_SAT\n",
      "0  Manhattan           89      1340.13   230.29\n"
     ]
    }
   ],
   "source": [
    "# Save your results as a pandas DataFrame called largest_std_dev.\n",
    "# The DataFrame should contain one row, with:\n",
    "    # \"borough\" - the name of the NYC borough with the largest standard deviation of \"total_SAT\".\n",
    "    # \"num_schools\" - the number of schools in the borough.\n",
    "    # \"average_SAT\" - the mean of \"total_SAT\".\n",
    "    # \"std_SAT\" - the standard deviation of \"total_SAT\".\n",
    "# Round all numeric values to two decimal places.\n",
    "\n",
    "result_dict = {\"borough\": new_df_sorted.iloc[0]['borough'],\n",
    "              \"num_schools\": schools_in_manhattan_count,\n",
    "              \"average_SAT\": round(manhattan_avg_sat, 2),\n",
    "              \"std_SAT\": round(new_df_sorted.iloc[0]['std_SAT'], 2)}\n",
    "largest_std_dev = pd.DataFrame([result_dict])\n",
    "print(largest_std_dev)"
   ]
  }
 ],
 "metadata": {
  "editor": "DataLab",
  "kernelspec": {
   "display_name": "Python 3",
   "language": "python",
   "name": "python3"
  },
  "language_info": {
   "codemirror_mode": {
    "name": "ipython",
    "version": 3
   },
   "file_extension": ".py",
   "mimetype": "text/x-python",
   "name": "python",
   "nbconvert_exporter": "python",
   "pygments_lexer": "ipython3",
   "version": "3.12.3"
  }
 },
 "nbformat": 4,
 "nbformat_minor": 5
}
