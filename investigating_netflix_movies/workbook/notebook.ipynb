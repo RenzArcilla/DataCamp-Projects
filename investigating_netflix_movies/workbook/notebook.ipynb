{
 "cells": [
  {
   "cell_type": "markdown",
   "id": "937acf3c-c077-4ca6-8d90-8f6dd4d13c54",
   "metadata": {},
   "source": [
    "<center><img src=\"redpopcorn.jpg\"></center>"
   ]
  },
  {
   "cell_type": "markdown",
   "id": "5962b2cd-17bb-4ec9-b2d5-68537ca26860",
   "metadata": {},
   "source": [
    "**Netflix**! What started in 1997 as a DVD rental service has since exploded into one of the largest entertainment and media companies.\n",
    "\n",
    "Given the large number of movies and series available on the platform, it is a perfect opportunity to flex your exploratory data analysis skills and dive into the entertainment industry.\n",
    "\n",
    "You work for a production company that specializes in nostalgic styles. You want to do some research on movies released in the 1990's. You'll delve into Netflix data and perform exploratory data analysis to better understand this awesome movie decade!\n",
    "\n",
    "You have been supplied with the dataset `netflix_data.csv`, along with the following table detailing the column names and descriptions. Feel free to experiment further after submitting!\n",
    "\n",
    "## The data\n",
    "### **netflix_data.csv**\n",
    "| Column | Description |\n",
    "|--------|-------------|\n",
    "| `show_id` | The ID of the show |\n",
    "| `type` | Type of show |\n",
    "| `title` | Title of the show |\n",
    "| `director` | Director of the show |\n",
    "| `cast` | Cast of the show |\n",
    "| `country` | Country of origin |\n",
    "| `date_added` | Date added to Netflix |\n",
    "| `release_year` | Year of Netflix release |\n",
    "| `duration` | Duration of the show in minutes |\n",
    "| `description` | Description of the show |\n",
    "| `genre` | Show genre |"
   ]
  },
  {
   "cell_type": "code",
   "execution_count": 16,
   "id": "320a3abc-8a36-4b2b-baaf-473325363a4d",
   "metadata": {
    "collapsed": false,
    "executionCancelledAt": null,
    "executionTime": 62,
    "jupyter": {
     "outputs_hidden": false,
     "source_hidden": false
    },
    "lastExecutedAt": 1725166449596,
    "lastExecutedByKernel": "a483e1ad-a7e3-45a9-b5fb-a85d95e6a182",
    "lastScheduledRunId": null,
    "lastSuccessfullyExecutedCode": "# Importing pandas and matplotlib\nimport pandas as pd\nimport matplotlib.pyplot as plt\n\n# Read in the Netflix CSV as a DataFrame\nnetflix_df = pd.read_csv(\"netflix_data.csv\")\nprint(netflix_df)",
    "outputsMetadata": {
     "0": {
      "height": 311,
      "type": "stream"
     }
    }
   },
   "outputs": [
    {
     "name": "stdout",
     "output_type": "stream",
     "text": [
      "<bound method NDFrame.head of      show_id     type       title           director  \\\n",
      "0         s2    Movie        7:19  Jorge Michel Grau   \n",
      "1         s3    Movie       23:59       Gilbert Chan   \n",
      "2         s4    Movie           9        Shane Acker   \n",
      "3         s5    Movie          21     Robert Luketic   \n",
      "4         s6  TV Show          46        Serdar Akar   \n",
      "...      ...      ...         ...                ...   \n",
      "4807   s7779    Movie  Zombieland    Ruben Fleischer   \n",
      "4808   s7781    Movie         Zoo       Shlok Sharma   \n",
      "4809   s7782    Movie        Zoom       Peter Hewitt   \n",
      "4810   s7783    Movie        Zozo        Josef Fares   \n",
      "4811   s7784    Movie      Zubaan        Mozez Singh   \n",
      "\n",
      "                                                   cast        country  \\\n",
      "0     Demián Bichir, Héctor Bonilla, Oscar Serrano, ...         Mexico   \n",
      "1     Tedd Chan, Stella Chung, Henley Hii, Lawrence ...      Singapore   \n",
      "2     Elijah Wood, John C. Reilly, Jennifer Connelly...  United States   \n",
      "3     Jim Sturgess, Kevin Spacey, Kate Bosworth, Aar...  United States   \n",
      "4     Erdal Beşikçioğlu, Yasemin Allen, Melis Birkan...         Turkey   \n",
      "...                                                 ...            ...   \n",
      "4807  Jesse Eisenberg, Woody Harrelson, Emma Stone, ...  United States   \n",
      "4808  Shashank Arora, Shweta Tripathi, Rahul Kumar, ...          India   \n",
      "4809  Tim Allen, Courteney Cox, Chevy Chase, Kate Ma...  United States   \n",
      "4810  Imad Creidi, Antoinette Turk, Elias Gergi, Car...         Sweden   \n",
      "4811  Vicky Kaushal, Sarah-Jane Dias, Raaghav Chanan...          India   \n",
      "\n",
      "             date_added  release_year  duration  \\\n",
      "0     December 23, 2016          2016        93   \n",
      "1     December 20, 2018          2011        78   \n",
      "2     November 16, 2017          2009        80   \n",
      "3       January 1, 2020          2008       123   \n",
      "4          July 1, 2017          2016         1   \n",
      "...                 ...           ...       ...   \n",
      "4807   November 1, 2019          2009        88   \n",
      "4808       July 1, 2018          2018        94   \n",
      "4809   January 11, 2020          2006        88   \n",
      "4810   October 19, 2020          2005        99   \n",
      "4811      March 2, 2019          2015       111   \n",
      "\n",
      "                                            description             genre  \n",
      "0     After a devastating earthquake hits Mexico Cit...            Dramas  \n",
      "1     When an army recruit is found dead, his fellow...     Horror Movies  \n",
      "2     In a postapocalyptic world, rag-doll robots hi...            Action  \n",
      "3     A brilliant group of students become card-coun...            Dramas  \n",
      "4     A genetics professor experiments with a treatm...  International TV  \n",
      "...                                                 ...               ...  \n",
      "4807  Looking to survive in a world taken over by zo...          Comedies  \n",
      "4808  A drug dealer starts having doubts about his t...            Dramas  \n",
      "4809  Dragged from civilian life, a former superhero...          Children  \n",
      "4810  When Lebanon's Civil War deprives Zozo of his ...            Dramas  \n",
      "4811  A scrappy but poor boy worms his way into a ty...            Dramas  \n",
      "\n",
      "[4812 rows x 11 columns]>\n"
     ]
    }
   ],
   "source": [
    "# Importing pandas and matplotlib\n",
    "import pandas as pd\n",
    "\n",
    "# Read in the Netflix CSV as a DataFrame\n",
    "netflix_df = pd.read_csv(\"netflix_data.csv\")\n",
    "print(netflix_df.head)"
   ]
  },
  {
   "cell_type": "code",
   "execution_count": 17,
   "id": "75d5ee6c-e0ae-46b1-9f1f-be2038ceb949",
   "metadata": {
    "collapsed": false,
    "executionCancelledAt": null,
    "executionTime": 51,
    "jupyter": {
     "outputs_hidden": false,
     "source_hidden": false
    },
    "lastExecutedAt": 1725166449647,
    "lastExecutedByKernel": "a483e1ad-a7e3-45a9-b5fb-a85d95e6a182",
    "lastScheduledRunId": null,
    "lastSuccessfullyExecutedCode": "# Subsets the movies released in the 1990s from netflix_df\nmovies_in_1990s = netflix_df[(netflix_df['type'] == 'Movie') & ((netflix_df['release_year'] < 2000) & (netflix_df['release_year'] > 1989))]\nprint(movies_in_1990s)",
    "outputsMetadata": {
     "0": {
      "height": 311,
      "type": "stream"
     }
    }
   },
   "outputs": [
    {
     "name": "stdout",
     "output_type": "stream",
     "text": [
      "<bound method NDFrame.head of      show_id   type                            title            director  \\\n",
      "6         s8  Movie                              187      Kevin Reynolds   \n",
      "118     s167  Movie                A Dangerous Woman  Stephen Gyllenhaal   \n",
      "145     s211  Movie           A Night at the Roxbury    John Fortenberry   \n",
      "167     s239  Movie  A Thin Line Between Love & Hate     Martin Lawrence   \n",
      "194     s274  Movie                     Aashik Awara         Umesh Mehra   \n",
      "...      ...    ...                              ...                 ...   \n",
      "4672   s7536  Movie                      West Beirut        Ziad Doueiri   \n",
      "4689   s7571  Movie      What's Eating Gilbert Grape     Lasse Hallström   \n",
      "4718   s7624  Movie                   Wild Wild West    Barry Sonnenfeld   \n",
      "4746   s7682  Movie                       Wyatt Earp     Lawrence Kasdan   \n",
      "4756   s7695  Movie                      Yaar Gaddar         Umesh Mehra   \n",
      "\n",
      "                                                   cast        country  \\\n",
      "6     Samuel L. Jackson, John Heard, Kelly Rowan, Cl...  United States   \n",
      "118   Debra Winger, Barbara Hershey, Gabriel Byrne, ...  United States   \n",
      "145   Will Ferrell, Chris Kattan, Dan Hedaya, Molly ...  United States   \n",
      "167   Martin Lawrence, Lynn Whitfield, Regina King, ...  United States   \n",
      "194   Saif Ali Khan, Mamta Kulkarni, Mohnish Bahl, S...          India   \n",
      "...                                                 ...            ...   \n",
      "4672  Rami Doueiri, Mohamad Chamas, Rola Al Amin, Ca...         France   \n",
      "4689  Johnny Depp, Leonardo DiCaprio, Juliette Lewis...  United States   \n",
      "4718  Will Smith, Kevin Kline, Kenneth Branagh, Salm...  United States   \n",
      "4746  Kevin Costner, Dennis Quaid, Gene Hackman, Dav...  United States   \n",
      "4756  Mithun Chakraborty, Saif Ali Khan, Somy Ali, P...          India   \n",
      "\n",
      "            date_added  release_year  duration  \\\n",
      "6     November 1, 2019          1997       119   \n",
      "118      April 1, 2018          1993       101   \n",
      "145   December 1, 2019          1998        82   \n",
      "167   December 1, 2020          1996       108   \n",
      "194       June 1, 2017          1993       154   \n",
      "...                ...           ...       ...   \n",
      "4672  October 19, 2020          1999       106   \n",
      "4689   January 1, 2021          1993       118   \n",
      "4718   January 1, 2020          1999       106   \n",
      "4746   January 1, 2020          1994       191   \n",
      "4756      July 1, 2017          1994       148   \n",
      "\n",
      "                                            description           genre  \n",
      "6     After one of his high school students attacks ...          Dramas  \n",
      "118   At the center of this engrossing melodrama is ...          Dramas  \n",
      "145   After a run-in with Richard Grieco, dimwits Do...        Comedies  \n",
      "167   When a philandering club promoter sets out to ...        Comedies  \n",
      "194   Raised by a kindly thief, orphaned Jimmy goes ...          Dramas  \n",
      "...                                                 ...             ...  \n",
      "4672  Three intrepid teens roam the streets of Beiru...          Dramas  \n",
      "4689  In a backwater Iowa town, young Gilbert is tor...  Classic Movies  \n",
      "4718  Armed with an ingenious arsenal, two top-notch...          Action  \n",
      "4746  Legendary lawman Wyatt Earp is continually at ...          Action  \n",
      "4756  When his brother becomes involved in a deadly ...          Dramas  \n",
      "\n",
      "[183 rows x 11 columns]>\n"
     ]
    }
   ],
   "source": [
    "# Subsets the movies released in the 1990s from netflix_df\n",
    "movies_in_1990s = netflix_df[(netflix_df['type'] == 'Movie') & \n",
    "                             ((netflix_df['release_year'] < 2000) & \n",
    "                             (netflix_df['release_year'] > 1989))]\n",
    "print(movies_in_1990s.head)"
   ]
  },
  {
   "cell_type": "code",
   "execution_count": 18,
   "id": "bf5a6d22-0cd3-44a0-ac45-e20ab2a4aa77",
   "metadata": {
    "collapsed": false,
    "executionCancelledAt": null,
    "executionTime": 56,
    "jupyter": {
     "outputs_hidden": false,
     "source_hidden": false
    },
    "lastExecutedAt": 1725166449703,
    "lastExecutedByKernel": "a483e1ad-a7e3-45a9-b5fb-a85d95e6a182",
    "lastScheduledRunId": null,
    "lastSuccessfullyExecutedCode": "# Identifies the most frequent duration\nmost_frequent_duration_1990s = movies_in_1990s['duration'].mode()\nduration = most_frequent_duration_1990s.iloc[-1]\nprint(duration)",
    "outputsMetadata": {
     "0": {
      "height": 38,
      "type": "stream"
     }
    }
   },
   "outputs": [
    {
     "name": "stdout",
     "output_type": "stream",
     "text": [
      "94\n"
     ]
    }
   ],
   "source": [
    "# Identifies the most frequent duration\n",
    "most_frequent_duration_1990s = movies_in_1990s['duration'].mode()\n",
    "duration = most_frequent_duration_1990s.iloc[-1]\n",
    "print(duration)"
   ]
  },
  {
   "cell_type": "code",
   "execution_count": 19,
   "id": "6119558b-3677-4f4b-ba9c-3b1f46d34b0c",
   "metadata": {
    "collapsed": false,
    "executionCancelledAt": null,
    "executionTime": 68,
    "jupyter": {
     "outputs_hidden": false,
     "source_hidden": false
    },
    "lastExecutedAt": 1725166449771,
    "lastExecutedByKernel": "a483e1ad-a7e3-45a9-b5fb-a85d95e6a182",
    "lastScheduledRunId": null,
    "lastSuccessfullyExecutedCode": "# Subsets the 'action' movies released in the '1990s' with less than '90 minutes' of duration from netflix_df \nshort_action_movies_1990s = netflix_df[(netflix_df['genre'] == 'Action') & (netflix_df['duration'] < 90) &\n                                      ((netflix_df['release_year'] < 2000) & (netflix_df['release_year'] > 1989))]\nprint(short_action_movies_1990s)",
    "outputsMetadata": {
     "0": {
      "height": 227,
      "type": "stream"
     }
    }
   },
   "outputs": [],
   "source": [
    "# Subsets the 'action' movies released in the '1990s' with less than '90 minutes' of duration from netflix_df \n",
    "short_action_movies_1990s = netflix_df[(netflix_df['genre'] == 'Action') & (netflix_df['duration'] < 90) &\n",
    "                                      ((netflix_df['release_year'] < 2000) & (netflix_df['release_year'] > 1989))]\n",
    "# print(short_action_movies_1990s.head)"
   ]
  },
  {
   "cell_type": "code",
   "execution_count": 20,
   "id": "088b0cde-753d-4aad-b151-dad503fd934f",
   "metadata": {
    "collapsed": false,
    "executionCancelledAt": null,
    "executionTime": 52,
    "jupyter": {
     "outputs_hidden": false,
     "source_hidden": false
    },
    "lastExecutedAt": 1725166449823,
    "lastExecutedByKernel": "a483e1ad-a7e3-45a9-b5fb-a85d95e6a182",
    "lastScheduledRunId": null,
    "lastSuccessfullyExecutedCode": "# Counting the number of rows in the subsetted DataFrame\nshort_movie_count = len(short_action_movies_1990s)\nprint(short_movie_count)",
    "outputsMetadata": {
     "0": {
      "height": 38,
      "type": "stream"
     }
    }
   },
   "outputs": [
    {
     "name": "stdout",
     "output_type": "stream",
     "text": [
      "7\n"
     ]
    }
   ],
   "source": [
    "# Counting the number of rows in the subsetted DataFrame\n",
    "short_movie_count = len(short_action_movies_1990s)\n",
    "print(short_movie_count)"
   ]
  }
 ],
 "metadata": {
  "colab": {
   "name": "Welcome to DataCamp Workspaces.ipynb",
   "provenance": []
  },
  "editor": "DataLab",
  "kernelspec": {
   "display_name": "Python 3",
   "language": "python",
   "name": "python3"
  },
  "language_info": {
   "codemirror_mode": {
    "name": "ipython",
    "version": 3
   },
   "file_extension": ".py",
   "mimetype": "text/x-python",
   "name": "python",
   "nbconvert_exporter": "python",
   "pygments_lexer": "ipython3",
   "version": "3.12.3"
  }
 },
 "nbformat": 4,
 "nbformat_minor": 5
}
