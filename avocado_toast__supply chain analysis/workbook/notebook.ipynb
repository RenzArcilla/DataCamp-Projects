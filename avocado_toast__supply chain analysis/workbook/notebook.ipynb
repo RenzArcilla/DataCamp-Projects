{
 "cells": [
  {
   "cell_type": "markdown",
   "id": "32ec92a0-c21a-45b8-ac63-9f9c698a1291",
   "metadata": {},
   "source": [
    "# What's in an Avocado Toast: A Supply Chain Analysis\n",
    "\n",
    "![](avocado_wallpaper.jpeg)\n",
    "\n",
    "You find yourself in London, crafting a delectable avocado toast, a dish that has risen dramatically in popularity on breakfast menus since the 2010s. This straightforward recipe requires just five ingredients: a ripe avocado, half a lemon, a generous pinch of salt flakes, two slices of sourdough bread, and a good drizzle of extra virgin olive oil. Most of these ingredients are now staples in grocery stores, and as you will find with this project, that is no small feat!\n",
    "\n",
    "In this project, you'll conduct a supply chain analysis of three ingredients used in avocado toast using the Open Food Facts database. This database contains extensive, openly-sourced information on various foods, including their origins. Through this analysis, you will gain an in-depth understanding of the complex supply chain involved in producing a single dish.\n",
    "\n",
    "Three pairs of files are provided in the data folder:\n",
    "- A CSV file for each ingredient, such as `avocado.csv`, with data about each food item and countries of origin.\n",
    "- A TXT file for each ingredient, such as `relevant_avocado_categories`, containing only the category tags of interest for that food.\n",
    "\n",
    "Here are some other key points about these files:\n",
    "- Some of the rows of data in each of the three CSV files do not contain relevant data for your investigation. In each dataset, you will need to filter out rows with irrelevant data, based on values in the `categories_tags` column. Examples of categories are fruits, vegetables, and fruit-based oils. Filter the DataFrame to include only rows where `categories_tags` contains one of the tags in the relevant categories for that ingredient.\n",
    "- Each row of data usually has multiple category tags in the `categories_tags` column.\n",
    "There is a column in each CSV file called `origins_tags`, which contains strings for the country of origin of each item.\n",
    "\n",
    "After completing this project, you'll be armed with a list of ingredients and their countries of origin and be well-positioned to launch into other analyses that explore how long, on average, these ingredients spend at sea.\n",
    "\n",
    "[Open Food Facts database](https://world.openfoodfacts.org/)"
   ]
  },
  {
   "cell_type": "code",
   "execution_count": 58,
   "id": "339a6352-aed5-4b9e-a48f-1b91a7db9adb",
   "metadata": {
    "executionCancelledAt": null,
    "executionTime": 10,
    "lastExecutedAt": 1734405875532,
    "lastExecutedByKernel": "9ba89369-ba91-4d3a-a816-b9d445b6c78d",
    "lastScheduledRunId": null,
    "lastSuccessfullyExecutedCode": "# Importing important libraries\n\nimport pandas as pd"
   },
   "outputs": [],
   "source": [
    "# Importing libraries\n",
    "\n",
    "import pandas as pd"
   ]
  },
  {
   "cell_type": "markdown",
   "id": "34f9e325-8768-4746-8d24-b72760b8b28c",
   "metadata": {},
   "source": [
    "## FOR AVOCADOS:"
   ]
  },
  {
   "cell_type": "code",
   "execution_count": 59,
   "id": "7ef4993c-9b12-44f4-88d6-75219045adef",
   "metadata": {
    "collapsed": true,
    "executionCancelledAt": null,
    "executionTime": 240,
    "jupyter": {
     "outputs_hidden": true,
     "source_hidden": false
    },
    "lastExecutedAt": 1734405875772,
    "lastExecutedByKernel": "9ba89369-ba91-4d3a-a816-b9d445b6c78d",
    "lastScheduledRunId": null,
    "lastSuccessfullyExecutedCode": "# Importing the data with error handling for inconsistent rows\npd_avocado = pd.read_csv('data/avocado.csv', sep='\\t', error_bad_lines=False)\n\n# Looking at the data\nprint(pd_avocado.head())\nprint(pd_avocado.describe())",
    "outputsMetadata": {
     "0": {
      "height": 416,
      "type": "stream"
     },
     "1": {
      "height": 605,
      "type": "stream"
     }
    }
   },
   "outputs": [
    {
     "name": "stdout",
     "output_type": "stream",
     "text": [
      "            code  lc product_name_de product_name_el  \\\n",
      "0  0059749979702  fr             NaN             NaN   \n",
      "1  7610095131409  en             NaN             NaN   \n",
      "2  4005514005578  en             NaN             NaN   \n",
      "3  0879890002513  en             NaN             NaN   \n",
      "4  0223086613685  en             NaN             NaN   \n",
      "\n",
      "                     product_name_en product_name_es product_name_fi  \\\n",
      "0                                NaN             NaN             NaN   \n",
      "1                                NaN             NaN             NaN   \n",
      "2  Gelbe Linse Avocado Brotaufstrich             NaN             NaN   \n",
      "3           Avocado toast chili lime             NaN             NaN   \n",
      "4                            Avocado             NaN             NaN   \n",
      "\n",
      "         product_name_fr product_name_id product_name_it  ...  \\\n",
      "0  Naturalia Avocado Oil             NaN             NaN  ...   \n",
      "1     Avocado Bowl chips             NaN             NaN  ...   \n",
      "2                    NaN             NaN             NaN  ...   \n",
      "3                    NaN             NaN             NaN  ...   \n",
      "4                    NaN             NaN             NaN  ...   \n",
      "\n",
      "  off:ecoscore_data.adjustments.packaging.non_recyclable_and_non_biodegradable_materials  \\\n",
      "0                                                1.0                                       \n",
      "1                                                1.0                                       \n",
      "2                                                1.0                                       \n",
      "3                                                1.0                                       \n",
      "4                                                1.0                                       \n",
      "\n",
      "  off:ecoscore_data.adjustments.production_system.value  \\\n",
      "0                                                0.0      \n",
      "1                                                0.0      \n",
      "2                                               15.0      \n",
      "3                                                0.0      \n",
      "4                                                0.0      \n",
      "\n",
      "  off:ecoscore_data.adjustments.threatened_species.value  \\\n",
      "0                                                NaN       \n",
      "1                                                NaN       \n",
      "2                                                NaN       \n",
      "3                                                NaN       \n",
      "4                                                NaN       \n",
      "\n",
      "  sources_fields:org-database-usda:available_date  \\\n",
      "0                                             NaN   \n",
      "1                                             NaN   \n",
      "2                                             NaN   \n",
      "3                                             NaN   \n",
      "4                                             NaN   \n",
      "\n",
      "  sources_fields:org-database-usda:fdc_category  \\\n",
      "0                                           NaN   \n",
      "1                                           NaN   \n",
      "2                                           NaN   \n",
      "3                                           NaN   \n",
      "4                                           NaN   \n",
      "\n",
      "  sources_fields:org-database-usda:fdc_data_source  \\\n",
      "0                                              NaN   \n",
      "1                                              NaN   \n",
      "2                                              NaN   \n",
      "3                                              NaN   \n",
      "4                                              NaN   \n",
      "\n",
      "  sources_fields:org-database-usda:fdc_id  \\\n",
      "0                                     NaN   \n",
      "1                                     NaN   \n",
      "2                                     NaN   \n",
      "3                                     NaN   \n",
      "4                                     NaN   \n",
      "\n",
      "  sources_fields:org-database-usda:modified_date  \\\n",
      "0                                            NaN   \n",
      "1                                            NaN   \n",
      "2                                            NaN   \n",
      "3                                            NaN   \n",
      "4                                            NaN   \n",
      "\n",
      "  sources_fields:org-database-usda:publication_date  \\\n",
      "0                                               NaN   \n",
      "1                                               NaN   \n",
      "2                                               NaN   \n",
      "3                                               NaN   \n",
      "4                                               NaN   \n",
      "\n",
      "                                      data_sources  \n",
      "0                                 App - yuka, Apps  \n",
      "1  App - Yuka, Apps, Producers, Producer - zweifel  \n",
      "2   App - yuka, Apps, App - smoothie-openfoodfacts  \n",
      "3                   App - Yuka, Apps, App - InFood  \n",
      "4                                 App - Yuka, Apps  \n",
      "\n",
      "[5 rows x 184 columns]\n",
      "          obsolete  energy-kj_value  energy-kcal_value    fat_value  \\\n",
      "count  1785.000000        36.000000        1321.000000  1319.000000   \n",
      "mean      0.000560      1624.436111         428.361558    41.942854   \n",
      "std       0.023669      1170.503436        1669.876094   149.601569   \n",
      "min       0.000000       587.000000           0.000000     0.000000   \n",
      "25%       0.000000       770.250000         140.000000     8.275000   \n",
      "50%       0.000000       930.000000         225.806452    17.105263   \n",
      "75%       0.000000      2882.250000         800.000000    90.000000   \n",
      "max       1.000000      3760.000000       60000.000000  5300.000000   \n",
      "\n",
      "       saturated-fat_value  carbohydrates_value  sugars_value  fiber_value  \\\n",
      "count          1300.000000          1309.000000   1246.000000   752.000000   \n",
      "mean              7.157629            10.838389      2.591553     2.857558   \n",
      "std              26.409608            26.714048      8.028671     8.388902   \n",
      "min               0.000000             0.000000      0.000000     0.000000   \n",
      "25%               1.219118             0.000000      0.000000     0.000000   \n",
      "50%               3.205000             5.600000      0.400000     1.700000   \n",
      "75%              10.714286            13.274336      3.330000     3.600000   \n",
      "max             900.000000           800.000000    200.000000   200.000000   \n",
      "\n",
      "       proteins_value   salt_value  ...  off:nutriscore_score  \\\n",
      "count     1308.000000  1195.000000  ...            526.000000   \n",
      "mean         4.695817   171.650390  ...              7.323194   \n",
      "std         74.719649   501.143067  ...              7.218370   \n",
      "min          0.000000     0.000000  ...             -9.000000   \n",
      "25%          0.000000     0.000000  ...              2.000000   \n",
      "50%          1.000000     0.446429  ...              9.000000   \n",
      "75%          3.500000     1.687437  ...             11.000000   \n",
      "max       2700.000000  7140.000000  ...             27.000000   \n",
      "\n",
      "       off:ecoscore_score  off:ecoscore_data.missing_key_data  \\\n",
      "count          345.000000                              1665.0   \n",
      "mean            42.762319                                 1.0   \n",
      "std             23.707061                                 0.0   \n",
      "min              3.000000                                 1.0   \n",
      "25%             34.000000                                 1.0   \n",
      "50%             52.000000                                 1.0   \n",
      "75%             57.000000                                 1.0   \n",
      "max            103.000000                                 1.0   \n",
      "\n",
      "       off:ecoscore_data.agribalyse.code  \\\n",
      "count                         345.000000   \n",
      "mean                        15454.756522   \n",
      "std                          5527.685562   \n",
      "min                          2500.000000   \n",
      "25%                         13004.000000   \n",
      "50%                         13004.000000   \n",
      "75%                         17100.000000   \n",
      "max                         39512.000000   \n",
      "\n",
      "       off:ecoscore_data.adjustments.origins_of_ingredients.value  \\\n",
      "count                                        1783.000000            \n",
      "mean                                           -4.919798            \n",
      "std                                             0.715207            \n",
      "min                                            -5.000000            \n",
      "25%                                            -5.000000            \n",
      "50%                                            -5.000000            \n",
      "75%                                            -5.000000            \n",
      "max                                             4.000000            \n",
      "\n",
      "       off:ecoscore_data.adjustments.packaging.value  \\\n",
      "count                                    1783.000000   \n",
      "mean                                      -14.500280   \n",
      "std                                         2.232772   \n",
      "min                                       -15.000000   \n",
      "25%                                       -15.000000   \n",
      "50%                                       -15.000000   \n",
      "75%                                       -15.000000   \n",
      "max                                         0.000000   \n",
      "\n",
      "       off:ecoscore_data.adjustments.packaging.non_recyclable_and_non_biodegradable_materials  \\\n",
      "count                                        1783.000000                                        \n",
      "mean                                            0.957375                                        \n",
      "std                                             0.204825                                        \n",
      "min                                             0.000000                                        \n",
      "25%                                             1.000000                                        \n",
      "50%                                             1.000000                                        \n",
      "75%                                             1.000000                                        \n",
      "max                                             2.000000                                        \n",
      "\n",
      "       off:ecoscore_data.adjustments.production_system.value  \\\n",
      "count                                        1783.000000       \n",
      "mean                                            0.381380       \n",
      "std                                             2.349948       \n",
      "min                                             0.000000       \n",
      "25%                                             0.000000       \n",
      "50%                                             0.000000       \n",
      "75%                                             0.000000       \n",
      "max                                            15.000000       \n",
      "\n",
      "       off:ecoscore_data.adjustments.threatened_species.value  \\\n",
      "count                                               12.0        \n",
      "mean                                               -10.0        \n",
      "std                                                  0.0        \n",
      "min                                                -10.0        \n",
      "25%                                                -10.0        \n",
      "50%                                                -10.0        \n",
      "75%                                                -10.0        \n",
      "max                                                -10.0        \n",
      "\n",
      "       sources_fields:org-database-usda:fdc_id  \n",
      "count                               316.000000  \n",
      "mean                             617990.693038  \n",
      "std                              117533.737894  \n",
      "min                              360071.000000  \n",
      "25%                              526087.750000  \n",
      "50%                              633699.000000  \n",
      "75%                              717809.500000  \n",
      "max                              808633.000000  \n",
      "\n",
      "[8 rows x 59 columns]\n"
     ]
    }
   ],
   "source": [
    "# Importing the data with error handling for inconsistent rows\n",
    "pd_avocado = pd.read_csv('data/avocado.csv', sep='\\t', on_bad_lines='skip')\n",
    "\n",
    "# Looking at the data\n",
    "print(pd_avocado.head())\n",
    "print(pd_avocado.describe())"
   ]
  },
  {
   "cell_type": "code",
   "execution_count": 60,
   "id": "eca50079-d719-4773-8816-ce462924797b",
   "metadata": {
    "collapsed": false,
    "executionCancelledAt": null,
    "executionTime": 54,
    "jupyter": {
     "outputs_hidden": false,
     "source_hidden": false
    },
    "lastExecutedAt": 1734405875827,
    "lastExecutedByKernel": "9ba89369-ba91-4d3a-a816-b9d445b6c78d",
    "lastScheduledRunId": null,
    "lastSuccessfullyExecutedCode": "# Subsetting useful columns\n\nuseful_columns = ['code', 'lc', 'productnameen', 'quantity', 'servingsize', 'packagingtags', 'brands', 'brandstags', 'categoriestags', 'labelstags', 'countries', 'countriestags', 'origins', 'origins_tags']\nexisting_useful_columns = [col for col in useful_columns if col in pd_avocado]\n\npd_avocado_subset = pd_avocado[existing_useful_columns]\nprint(pd_avocado_subset)",
    "outputsMetadata": {
     "0": {
      "height": 311,
      "type": "stream"
     }
    }
   },
   "outputs": [
    {
     "name": "stdout",
     "output_type": "stream",
     "text": [
      "               code  lc quantity                                   brands  \\\n",
      "0     0059749979702  fr      NaN                                Naturalia   \n",
      "1     7610095131409  en      NaN                                  Zweifel   \n",
      "2     4005514005578  en      NaN                                   Tartex   \n",
      "3     0879890002513  en      NaN                                      NaN   \n",
      "4     0223086613685  en      NaN                                      NaN   \n",
      "...             ...  ..      ...                                      ...   \n",
      "1780  0819573012712  en      NaN                                Happybaby   \n",
      "1781  0052200072097  en      NaN  Beech-Nut,  Beech-Nut Nutrition Company   \n",
      "1782  0793613300000  en      NaN                           Classy Delites   \n",
      "1783       05252428  en      NaN                                Beech-Nut   \n",
      "1784  0052200072141  en      NaN                                Beech-Nut   \n",
      "\n",
      "               countries origins origins_tags  \n",
      "0                 Canada     NaN          NaN  \n",
      "1     Switzerland, World     NaN          NaN  \n",
      "2                Germany     NaN          NaN  \n",
      "3          United States     NaN          NaN  \n",
      "4          United States     NaN          NaN  \n",
      "...                  ...     ...          ...  \n",
      "1780       United States     NaN          NaN  \n",
      "1781       United States     NaN          NaN  \n",
      "1782       United States     NaN          NaN  \n",
      "1783       United States     NaN          NaN  \n",
      "1784       United States     NaN          NaN  \n",
      "\n",
      "[1785 rows x 7 columns]\n"
     ]
    }
   ],
   "source": [
    "# Subsetting useful columns\n",
    "\n",
    "useful_columns = ['code', 'lc', 'productnameen', 'quantity', 'servingsize', 'packagingtags', 'brands', 'brandstags', 'categoriestags', 'labelstags', 'countries', 'countriestags', 'origins', 'origins_tags']\n",
    "existing_useful_columns = [col for col in useful_columns if col in pd_avocado]\n",
    "\n",
    "pd_avocado_subset = pd_avocado[existing_useful_columns]\n",
    "print(pd_avocado_subset)"
   ]
  },
  {
   "cell_type": "code",
   "execution_count": 61,
   "id": "5079902e-e7a7-4350-92a0-87910dc562b5",
   "metadata": {
    "collapsed": false,
    "executionCancelledAt": null,
    "executionTime": 56,
    "jupyter": {
     "outputs_hidden": false,
     "source_hidden": false
    },
    "lastExecutedAt": 1734405875883,
    "lastExecutedByKernel": "9ba89369-ba91-4d3a-a816-b9d445b6c78d",
    "lastScheduledRunId": null,
    "lastSuccessfullyExecutedCode": "# Sorting and subsetting for country of highest origin for avocado:\n\n# Filter for which country's data:\npd_avocado_subset_UK = pd_avocado_subset[pd_avocado_subset['countries'] == \"United Kingdom\"]\n\n# Group by 'countries' and count the occurrences\ncountry_counts = pd_avocado_subset_UK['origins_tags'].value_counts()\n\n# Sort the counts in descending order\ncountry_counts_sorted = country_counts.sort_values(ascending=False)\n\nprint(country_counts_sorted.head())",
    "outputsMetadata": {
     "0": {
      "height": 143,
      "type": "stream"
     }
    }
   },
   "outputs": [
    {
     "name": "stdout",
     "output_type": "stream",
     "text": [
      "origins_tags\n",
      "en:peru             2\n",
      "en:spain,en:peru    1\n",
      "en:chile,en:peru    1\n",
      "en:israel           1\n",
      "en:south-africa     1\n",
      "Name: count, dtype: int64\n"
     ]
    }
   ],
   "source": [
    "# Sorting and subsetting for country of highest origin for avocado:\n",
    "\n",
    "# Filter for which country's data:\n",
    "pd_avocado_subset_UK = pd_avocado_subset[pd_avocado_subset['countries'] == \"United Kingdom\"]\n",
    "\n",
    "# Group by 'countries' and count the occurrences\n",
    "country_counts = pd_avocado_subset_UK['origins_tags'].value_counts()\n",
    "\n",
    "# Sort the counts in descending order\n",
    "top_avocado_origin = country_counts.sort_values(ascending=False)\n",
    "\n",
    "print(top_avocado_origin.head())"
   ]
  },
  {
   "cell_type": "code",
   "execution_count": 62,
   "id": "aac662e0-4992-4acb-ad61-4d79a01d9f89",
   "metadata": {
    "collapsed": false,
    "executionCancelledAt": null,
    "executionTime": 52,
    "jupyter": {
     "outputs_hidden": false,
     "source_hidden": false
    },
    "lastExecutedAt": 1734405875935,
    "lastExecutedByKernel": "9ba89369-ba91-4d3a-a816-b9d445b6c78d",
    "lastScheduledRunId": null,
    "lastSuccessfullyExecutedCode": "# Submitting the answer\n\ntop_avocado_origin = \"Peru\""
   },
   "outputs": [
    {
     "name": "stdout",
     "output_type": "stream",
     "text": [
      "Peru\n"
     ]
    }
   ],
   "source": [
    "# Submitting the answer\n",
    "top_avocado_origin = top_avocado_origin.index[0]\n",
    "top_avocado_origin = top_avocado_origin.replace('en:', '').replace('-', ' ').title()\n",
    "print(top_avocado_origin)"
   ]
  },
  {
   "cell_type": "code",
   "execution_count": 63,
   "id": "a2a359e0-bb10-407d-b809-250f9423a6a5",
   "metadata": {
    "executionCancelledAt": null,
    "executionTime": 51,
    "lastExecutedAt": 1734405876035,
    "lastExecutedByKernel": "9ba89369-ba91-4d3a-a816-b9d445b6c78d",
    "lastScheduledRunId": null,
    "lastSuccessfullyExecutedCode": "def common_origin(df):\n    useful_columns = ['code', 'lc', 'productnameen', 'quantity', 'servingsize', 'packagingtags', 'brands',\n                      'brandstags', 'categoriestags', 'labelstags', 'countries', 'countriestags', 'origins', \n                      'origins_tags']\n    existing_useful_columns = [col for col in useful_columns if col in df.columns]\n    pd_subset = df[existing_useful_columns]\n    \n    # Filter for which country's data:\n    pd_subset = pd_subset[pd_subset['countries'] == \"United Kingdom\"]\n    \n    # Group by 'countries' and count the occurrences\n    country_counts = pd_subset['origins_tags'].value_counts()\n\n    # Sort the counts in descending order\n    country_counts_sorted = country_counts.sort_values(ascending=False)\n    \n    return country_counts_sorted"
   },
   "outputs": [],
   "source": [
    "# Function to call for each ingredient\n",
    "def common_origin(df):\n",
    "    \"\"\"\n",
    "    Analyzes the origins of products filtered by country.\n",
    "\n",
    "    Parameters:\n",
    "    df (DataFrame): A pandas DataFrame containing product metadata.\n",
    "\n",
    "    Returns:\n",
    "    Series: A sorted count of origin tags from products associated with the United Kingdom.\n",
    "\n",
    "    Notes:\n",
    "    - Only includes relevant columns if present.\n",
    "    - Filters data where 'countries' is 'United Kingdom'.\n",
    "    - Returns a Series where the index contains origin tags and the values are their respective counts.\n",
    "    \"\"\"\n",
    "    useful_columns = ['code', 'lc', 'productnameen', 'quantity', 'servingsize', 'packagingtags', 'brands',\n",
    "                      'brandstags', 'categoriestags', 'labelstags', 'countries', 'countriestags', 'origins', \n",
    "                      'origins_tags']\n",
    "    existing_useful_columns = [col for col in useful_columns if col in df.columns]\n",
    "    pd_subset = df[existing_useful_columns]\n",
    "    \n",
    "    # Filter for which country's data:\n",
    "    pd_subset = pd_subset[pd_subset['countries'] == \"United Kingdom\"]\n",
    "    \n",
    "    # Group by 'countries' and count the occurrences\n",
    "    country_counts = pd_subset['origins_tags'].value_counts()\n",
    "\n",
    "    # Sort the counts in descending order\n",
    "    country_counts_sorted = country_counts.sort_values(ascending=False)\n",
    "    \n",
    "    return country_counts_sorted"
   ]
  },
  {
   "cell_type": "markdown",
   "id": "11cf0318-a7c6-4a4e-b79b-15788440bada",
   "metadata": {
    "collapsed": false,
    "jupyter": {
     "outputs_hidden": false,
     "source_hidden": false
    }
   },
   "source": [
    "## FOR OLIVE OIL:"
   ]
  },
  {
   "cell_type": "code",
   "execution_count": 64,
   "id": "14ea0774-effa-46bc-bf3a-26ae4789ef05",
   "metadata": {
    "collapsed": false,
    "executionCancelledAt": null,
    "executionTime": 278,
    "jupyter": {
     "outputs_hidden": false,
     "source_hidden": false
    },
    "lastExecutedAt": 1734405876313,
    "lastExecutedByKernel": "9ba89369-ba91-4d3a-a816-b9d445b6c78d",
    "lastScheduledRunId": null,
    "lastSuccessfullyExecutedCode": "# Importing the data with error handling for inconsistent rows\npd_olive_oil = pd.read_csv('data/olive_oil.csv', sep='\\t', error_bad_lines=False)\n\n# Finding the most common country of origin for each ingredient:\nprint(common_origin(pd_olive_oil).head(10))",
    "outputsMetadata": {
     "0": {
      "height": 248,
      "type": "stream"
     }
    }
   },
   "outputs": [
    {
     "name": "stdout",
     "output_type": "stream",
     "text": [
      "<bound method NDFrame.head of origins_tags\n",
      "en:greece                                             6\n",
      "en:spain                                              4\n",
      "en:italy                                              4\n",
      "en:greece,en:italy,en:portugal,en:spain,en:tunisia    2\n",
      "en:produce-of-italy                                   1\n",
      "en:morocco                                            1\n",
      "en:european-union-and-non-european-union              1\n",
      "en:maldives                                           1\n",
      "en:united-kingdom                                     1\n",
      "en:southwest-atlantic                                 1\n",
      "en:produced-in-italy                                  1\n",
      "en:european-union                                     1\n",
      "en:india                                              1\n",
      "Name: count, dtype: int64>\n"
     ]
    },
    {
     "name": "stderr",
     "output_type": "stream",
     "text": [
      "C:\\Users\\user\\AppData\\Local\\Temp\\ipykernel_9280\\3902438772.py:2: DtypeWarning: Columns (0,1,2,4,5,6,7,8,10,13,15,16,17,18,20,21,22,23,24,25,26,27,29,30,31,32,33,34,35,36,37,38,39,42,43,44,45,46,48,49,50,57,67,70,71,72,73,74,75,76,79,80,81,82,83,86,87,88,89,90,91,92,95,96,97,98,99,100,101,102,103,104,105,106,107,108,109,110,115,121,125,129,133,137,141,145,149,153,157,159,161,165,167,169,177,179,181,183,185,187,189,191,193,195,197,199,201,203,205,211,213,215,217,219,221,223,225,227,229,231,233,235,237,239,241,243,245,247,249,251,253,255,257,259,261,263,265,267,269,271,273,274,275,276,277,278,279,280,281,282,283,284,285,286,288,289,290,291,292,293,294,305,311,312,313,315,316,319,320,321,322,324) have mixed types. Specify dtype option on import or set low_memory=False.\n",
      "  pd_olive_oil = pd.read_csv('data/olive_oil.csv', sep='\\t', on_bad_lines='skip')\n"
     ]
    }
   ],
   "source": [
    "# Importing the data with error handling for inconsistent rows\n",
    "pd_olive_oil = pd.read_csv('data/olive_oil.csv', sep='\\t', on_bad_lines='skip')\n",
    "\n",
    "# Finding the most common country of origin for each ingredient:\n",
    "top_olive_oil_origin = common_origin(pd_olive_oil)\n",
    "print(top_olive_oil_origin.head)"
   ]
  },
  {
   "cell_type": "code",
   "execution_count": 65,
   "id": "09240bbe-fc4a-45f6-96e6-76fb23a287fa",
   "metadata": {
    "executionCancelledAt": null,
    "executionTime": 54,
    "lastExecutedAt": 1734405876367,
    "lastExecutedByKernel": "9ba89369-ba91-4d3a-a816-b9d445b6c78d",
    "lastScheduledRunId": null,
    "lastSuccessfullyExecutedCode": "# Submitting the answer\n\ntop_olive_oil_origin = \"Greece\""
   },
   "outputs": [
    {
     "name": "stdout",
     "output_type": "stream",
     "text": [
      "Greece\n"
     ]
    }
   ],
   "source": [
    "# Submitting the answer\n",
    "top_olive_oil_origin = top_olive_oil_origin.index[0]\n",
    "top_olive_oil_origin = top_olive_oil_origin.replace('en:', '').replace('-', ' ').title()\n",
    "print(top_olive_oil_origin)"
   ]
  },
  {
   "cell_type": "markdown",
   "id": "0ec4c021-9767-40e0-8987-c1dbcf52e5e9",
   "metadata": {},
   "source": [
    "## FOR SOURDOUGH"
   ]
  },
  {
   "cell_type": "code",
   "execution_count": 66,
   "id": "1d04bdfa-5967-4a0f-aa69-afb3be663f12",
   "metadata": {
    "collapsed": false,
    "executionCancelledAt": null,
    "executionTime": 55,
    "jupyter": {
     "outputs_hidden": false,
     "source_hidden": false
    },
    "lastExecutedAt": 1734405876423,
    "lastExecutedByKernel": "9ba89369-ba91-4d3a-a816-b9d445b6c78d",
    "lastScheduledRunId": null,
    "lastSuccessfullyExecutedCode": "# Importing the data with error handling for inconsistent rows\npd_sourdough = pd.read_csv('data/sourdough.csv', sep='\\t', error_bad_lines=False)\n\n# Finding the most common country of origin for each ingredient:\nprint(common_origin(pd_sourdough))",
    "outputsMetadata": {
     "0": {
      "height": 101,
      "type": "stream"
     }
    }
   },
   "outputs": [
    {
     "name": "stdout",
     "output_type": "stream",
     "text": [
      "origins_tags\n",
      "en:united-kingdom    5\n",
      "en:italy             2\n",
      "en:france            1\n",
      "Name: count, dtype: int64\n"
     ]
    }
   ],
   "source": [
    "# Importing the data with error handling for inconsistent rows\n",
    "pd_sourdough = pd.read_csv('data/sourdough.csv', sep='\\t', on_bad_lines='skip')\n",
    "\n",
    "# Finding the most common country of origin for each ingredient:\n",
    "top_sourdough_origin = common_origin(pd_sourdough)\n",
    "print(top_sourdough_origin)"
   ]
  },
  {
   "cell_type": "code",
   "execution_count": 67,
   "id": "d801cd7a-522d-4ce6-a7c5-ea1296dd7c09",
   "metadata": {
    "executionCancelledAt": null,
    "executionTime": 47,
    "lastExecutedAt": 1734405876470,
    "lastExecutedByKernel": "9ba89369-ba91-4d3a-a816-b9d445b6c78d",
    "lastScheduledRunId": null,
    "lastSuccessfullyExecutedCode": "# Submitting the answer\n\ntop_sourdough_origin = \"United Kingdom\""
   },
   "outputs": [
    {
     "name": "stdout",
     "output_type": "stream",
     "text": [
      "United Kingdom\n"
     ]
    }
   ],
   "source": [
    "# Submitting the answer\n",
    "top_sourdough_origin = top_sourdough_origin.index[0]\n",
    "top_sourdough_origin = top_sourdough_origin.replace('en:', '').replace('-', ' ').title()\n",
    "print(top_sourdough_origin)"
   ]
  }
 ],
 "metadata": {
  "colab": {
   "name": "Welcome to DataCamp Workspaces.ipynb",
   "provenance": []
  },
  "kernelspec": {
   "display_name": "Python 3",
   "language": "python",
   "name": "python3"
  },
  "language_info": {
   "codemirror_mode": {
    "name": "ipython",
    "version": 3
   },
   "file_extension": ".py",
   "mimetype": "text/x-python",
   "name": "python",
   "nbconvert_exporter": "python",
   "pygments_lexer": "ipython3",
   "version": "3.12.3"
  }
 },
 "nbformat": 4,
 "nbformat_minor": 5
}
