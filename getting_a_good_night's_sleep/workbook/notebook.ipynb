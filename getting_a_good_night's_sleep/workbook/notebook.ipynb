{
 "cells": [
  {
   "cell_type": "markdown",
   "id": "fe7ecb8d-ad0b-40c0-b404-8b4c339d1c8b",
   "metadata": {},
   "source": [
    "![insomnia](insomnia.jpg)\n"
   ]
  },
  {
   "cell_type": "markdown",
   "id": "04929432-e076-40ef-b2a7-8e67dc7ba1a3",
   "metadata": {},
   "source": [
    "Your client, SleepInc, has shared anonymized sleep data from their hot new sleep tracking app SleepScope. As their data science consultant, your mission is to analyze the lifestyle survey data with Python to discover relationships between exercise, gender, occupation, and sleep quality. See if you can identify patterns leading to insights on sleep quality.\n",
    "\n",
    "## 💾 The data: sleep_health_data.csv\n",
    "\n",
    "SleepInc has provided you with an anonymized dataset of sleep and lifestyle metrics for 374 individuals. This dataset contains average values for each person calculated over the past six months. The data is saved as `sleep_health_data.csv`.\n",
    "\n",
    "The dataset includes 13 columns covering sleep duration, quality, disorders, exercise, stress, diet, demographics, and other factors related to sleep health. \n",
    "\n",
    "| Column | Description |\n",
    "|---------|----------------------------------------|  \n",
    "| `Person ID` | An identifier for each individual. |\n",
    "| `Gender` | The gender of the person (Male/Female). |  \n",
    "| `Age` | The age of the person in years. |\n",
    "| `Occupation` | The occupation or profession of the person. |\n",
    "| `Sleep Duration (hours)` | The average number of hours the person sleeps per day. |\n",
    "| `Quality of Sleep (scale: 1-10)` | A subjective rating of the quality of sleep, ranging from 1 to 10. |\n",
    "| `Physical Activity Level (minutes/day)` | The average number of minutes the person engages in physical activity daily. |  \n",
    "| `Stress Level (scale: 1-10)` | A subjective rating of the stress level experienced by the person, ranging from 1 to 10. |\n",
    "| `BMI Category` | The BMI category of the person (e.g., Underweight, Normal, Overweight). |\n",
    "| `Blood Pressure (systolic/diastolic)` | The average blood pressure measurement of the person, indicated as systolic pressure over diastolic pressure. |\n",
    "| `Heart Rate (bpm)` | The average resting heart rate of the person in beats per minute. |\n",
    "| `Daily Steps` | The average number of steps the person takes per day. |\n",
    "| `Sleep Disorder` | The presence or absence of a sleep disorder in the person (None, Insomnia, Sleep Apnea). |"
   ]
  },
  {
   "cell_type": "code",
   "execution_count": 1,
   "id": "a622f61f-54d5-468a-83b6-41f0ff404278",
   "metadata": {
    "executionCancelledAt": null,
    "executionTime": 81,
    "lastExecutedAt": 1751522890566,
    "lastExecutedByKernel": "59c689d0-da00-4c23-bc44-a7cc3e580e34",
    "lastScheduledRunId": null,
    "lastSuccessfullyExecutedCode": "# Start coding here\n# Use as many cells as you need\nimport pandas as pd\nsleep_df = pd.read_csv('sleep_health_data.csv')"
   },
   "outputs": [],
   "source": [
    "# Start coding here\n",
    "# Use as many cells as you need\n",
    "import pandas as pd\n",
    "sleep_df = pd.read_csv('sleep_health_data.csv')"
   ]
  },
  {
   "cell_type": "markdown",
   "id": "071f5410-1dca-4e66-9c78-430818f127dd",
   "metadata": {},
   "source": [
    "### Which occupation has the lowest average sleep duration? Save this in a string variable called lowest_sleep_occ."
   ]
  },
  {
   "cell_type": "code",
   "execution_count": 2,
   "id": "2870ad07-b3da-4e71-89de-28049d08ca9a",
   "metadata": {
    "collapsed": false,
    "executionCancelledAt": null,
    "executionTime": 79,
    "jupyter": {
     "outputs_hidden": false,
     "source_hidden": false
    },
    "lastExecutedAt": 1751522890645,
    "lastExecutedByKernel": "59c689d0-da00-4c23-bc44-a7cc3e580e34",
    "lastScheduledRunId": null,
    "lastSuccessfullyExecutedCode": "# slicing the occupation and duration, then sorting\noccupation_duration_df = sleep_df[[\"Occupation\", \"Sleep Duration\"]].groupby(\"Occupation\").mean().sort_values(by=\"Sleep Duration\", ascending=True)\n\nprint(occupation_duration_df.head())\nprint()\nprint()\n\nlowest_sleep_occ = occupation_duration_df.index[0]\nprint(lowest_sleep_occ)",
    "outputsMetadata": {
     "0": {
      "height": 227,
      "type": "stream"
     }
    }
   },
   "outputs": [
    {
     "name": "stdout",
     "output_type": "stream",
     "text": [
      "                      Sleep Duration\n",
      "Occupation                          \n",
      "Sales Representative        5.900000\n",
      "Scientist                   6.000000\n",
      "Salesperson                 6.403125\n",
      "Teacher                     6.690000\n",
      "Software Engineer           6.750000\n",
      "\n",
      "\n",
      "Sales Representative\n"
     ]
    }
   ],
   "source": [
    "# slicing the occupation and duration, then sorting\n",
    "occupation_duration_df = sleep_df[[\"Occupation\", \"Sleep Duration\"]].groupby(\"Occupation\").mean().sort_values(by=\"Sleep Duration\", ascending=True)\n",
    "\n",
    "print(occupation_duration_df.head())\n",
    "print()\n",
    "print()\n",
    "\n",
    "lowest_sleep_occ = occupation_duration_df.index[0]\n",
    "print(lowest_sleep_occ)"
   ]
  },
  {
   "cell_type": "markdown",
   "id": "08ec706b-ca0f-4aa8-9832-62a5c370376e",
   "metadata": {},
   "source": [
    "### Which occupation has the lowest average sleep quality? Save this in a string variable called lowest_sleep_quality_occ. Did the occupation with the lowest sleep duration also have the lowest sleep quality? If so assign a boolean value to variable same_occ variable, True if it is the same occupation, and False if it isn't."
   ]
  },
  {
   "cell_type": "code",
   "execution_count": 3,
   "id": "3e5b0011-e65b-45e3-b2b8-74618f3032f5",
   "metadata": {
    "collapsed": false,
    "executionCancelledAt": null,
    "executionTime": 89,
    "jupyter": {
     "outputs_hidden": false,
     "source_hidden": false
    },
    "lastExecutedAt": 1751522890734,
    "lastExecutedByKernel": "59c689d0-da00-4c23-bc44-a7cc3e580e34",
    "lastScheduledRunId": null,
    "lastSuccessfullyExecutedCode": "# Sclicing the dataframe for the occupation with the lowest sleep quality\n\noccupation_quality_df = sleep_df[[\"Occupation\", \"Quality of Sleep\"]].groupby(\"Occupation\").mean().sort_values(by=\"Quality of Sleep\", ascending=True)\n\nprint(occupation_quality_df.head())\nprint()\nprint()\n\nlowest_sleep_quality_occ = occupation_duration_df.index[0]\nprint(lowest_sleep_quality_occ)",
    "outputsMetadata": {
     "0": {
      "height": 227,
      "type": "stream"
     }
    }
   },
   "outputs": [
    {
     "name": "stdout",
     "output_type": "stream",
     "text": [
      "                      Quality of Sleep\n",
      "Occupation                            \n",
      "Sales Representative          4.000000\n",
      "Scientist                     5.000000\n",
      "Salesperson                   6.000000\n",
      "Software Engineer             6.500000\n",
      "Doctor                        6.647887\n",
      "\n",
      "\n",
      "Sales Representative\n"
     ]
    }
   ],
   "source": [
    "# Sclicing the dataframe for the occupation with the lowest sleep quality\n",
    "\n",
    "occupation_quality_df = sleep_df[[\"Occupation\", \"Quality of Sleep\"]].groupby(\"Occupation\").mean().sort_values(by=\"Quality of Sleep\", ascending=True)\n",
    "\n",
    "print(occupation_quality_df.head())\n",
    "print()\n",
    "print()\n",
    "\n",
    "lowest_sleep_quality_occ = occupation_duration_df.index[0]\n",
    "print(lowest_sleep_quality_occ)"
   ]
  },
  {
   "cell_type": "code",
   "execution_count": 4,
   "id": "54f8005b-3af1-48a7-a71f-5d704a6a2494",
   "metadata": {
    "executionCancelledAt": null,
    "executionTime": 95,
    "lastExecutedAt": 1751522890830,
    "lastExecutedByKernel": "59c689d0-da00-4c23-bc44-a7cc3e580e34",
    "lastScheduledRunId": null,
    "lastSuccessfullyExecutedCode": "# Checking if the occupation with the lowest duration of sleep also has the lowest quality of sleep\nif lowest_sleep_occ == lowest_sleep_quality_occ:\n    same_occ = True\nelse:\n    same_occ = False"
   },
   "outputs": [],
   "source": [
    "# Checking if the occupation with the lowest duration of sleep also has the lowest quality of sleep\n",
    "if lowest_sleep_occ == lowest_sleep_quality_occ:\n",
    "    same_occ = True\n",
    "else:\n",
    "    same_occ = False"
   ]
  },
  {
   "cell_type": "markdown",
   "id": "caf6955e-97c1-4784-8ece-23e9a6d108ee",
   "metadata": {},
   "source": [
    "### Let's explore how BMI Category can affect sleep disorder rates. Start by finding what ratio of app users in each BMI Category have been diagnosed with Insomnia. Create a dictionary named: bmi_insomnia_ratios. The key should be the BMI Category as a string, while the value should be the ratio of people in this category with insomnia as a float rounded to two decimal places. "
   ]
  },
  {
   "cell_type": "code",
   "execution_count": 5,
   "id": "e5f13458-273d-4f5d-b609-8f97ea905593",
   "metadata": {
    "executionCancelledAt": null,
    "executionTime": 76,
    "lastExecutedAt": 1751522890908,
    "lastExecutedByKernel": "59c689d0-da00-4c23-bc44-a7cc3e580e34",
    "lastScheduledRunId": null,
    "lastSuccessfullyExecutedCode": "# Getting the unique values in the sleep dataframe\nprint(sleep_df[\"BMI Category\"].unique())\n\n# Finding what ratio of app users in each BMI Category have been diagnosed with Insomnia.\ntotal = sleep_df.shape[0]\n\n# For Overweight:\ntotal_overweight = sleep_df[(sleep_df[\"BMI Category\"] == \"Overweight\")].shape[0]\noverweight_insomnia = sleep_df[(sleep_df[\"BMI Category\"] == \"Overweight\") & (sleep_df[\"Sleep Disorder\"] == \"Insomnia\")].shape[0]\noverweight_insomnia_ratio = overweight_insomnia / total_overweight\n\n# For Normal:\ntotal_normal = sleep_df[(sleep_df[\"BMI Category\"] == \"Normal\")].shape[0]\nnormal_insomnia = sleep_df[(sleep_df[\"BMI Category\"] == \"Normal\") & (sleep_df[\"Sleep Disorder\"] == \"Insomnia\")].shape[0]\nnormal_insomnia_ratio = normal_insomnia / total_normal\n\n# For Obese:\ntotal_obese = sleep_df[(sleep_df[\"BMI Category\"] == \"Obese\")].shape[0]\nobese_insomnia = sleep_df[(sleep_df[\"BMI Category\"] == \"Obese\") & (sleep_df[\"Sleep Disorder\"] == \"Insomnia\")].shape[0]\nobese_insomnia_ratio = obese_insomnia / total_obese\n\n# Creating the dictionary\nbmi_insomnia_ratios = {'Normal': round(normal_insomnia_ratio, 2), 'Overweight': round(overweight_insomnia_ratio, 2), 'Obese': round(obese_insomnia_ratio, 2)}",
    "outputsMetadata": {
     "0": {
      "height": 38,
      "type": "stream"
     }
    }
   },
   "outputs": [
    {
     "name": "stdout",
     "output_type": "stream",
     "text": [
      "['Overweight' 'Normal' 'Obese']\n"
     ]
    }
   ],
   "source": [
    "# Getting the unique values in the sleep dataframe\n",
    "print(sleep_df[\"BMI Category\"].unique())\n",
    "\n",
    "# Finding what ratio of app users in each BMI Category have been diagnosed with Insomnia.\n",
    "total = sleep_df.shape[0]\n",
    "\n",
    "# For Overweight:\n",
    "total_overweight = sleep_df[(sleep_df[\"BMI Category\"] == \"Overweight\")].shape[0]\n",
    "overweight_insomnia = sleep_df[(sleep_df[\"BMI Category\"] == \"Overweight\") & (sleep_df[\"Sleep Disorder\"] == \"Insomnia\")].shape[0]\n",
    "overweight_insomnia_ratio = overweight_insomnia / total_overweight\n",
    "\n",
    "# For Normal:\n",
    "total_normal = sleep_df[(sleep_df[\"BMI Category\"] == \"Normal\")].shape[0]\n",
    "normal_insomnia = sleep_df[(sleep_df[\"BMI Category\"] == \"Normal\") & (sleep_df[\"Sleep Disorder\"] == \"Insomnia\")].shape[0]\n",
    "normal_insomnia_ratio = normal_insomnia / total_normal\n",
    "\n",
    "# For Obese:\n",
    "total_obese = sleep_df[(sleep_df[\"BMI Category\"] == \"Obese\")].shape[0]\n",
    "obese_insomnia = sleep_df[(sleep_df[\"BMI Category\"] == \"Obese\") & (sleep_df[\"Sleep Disorder\"] == \"Insomnia\")].shape[0]\n",
    "obese_insomnia_ratio = obese_insomnia / total_obese\n",
    "\n",
    "# Creating the dictionary\n",
    "bmi_insomnia_ratios = {'Normal': round(normal_insomnia_ratio, 2), 'Overweight': round(overweight_insomnia_ratio, 2), 'Obese': round(obese_insomnia_ratio, 2)}"
   ]
  },
  {
   "cell_type": "code",
   "execution_count": 6,
   "id": "bd1168a9-cb81-4c5f-aa37-e5139a209c4d",
   "metadata": {
    "executionCancelledAt": null,
    "executionTime": 11,
    "lastExecutedAt": 1751523130186,
    "lastExecutedByKernel": "59c689d0-da00-4c23-bc44-a7cc3e580e34",
    "lastScheduledRunId": null,
    "lastSuccessfullyExecutedCode": "# Looking at the result\nprint(\"BMI-Insomnia Ratio:\")\nfor key, value in bmi_insomnia_ratios.items():\n    print(f\"{key}: {value}\")",
    "outputsMetadata": {
     "0": {
      "height": 101,
      "type": "stream"
     }
    }
   },
   "outputs": [
    {
     "name": "stdout",
     "output_type": "stream",
     "text": [
      "BMI-Insomnia Ratio:\n",
      "Normal: 0.04\n",
      "Overweight: 0.43\n",
      "Obese: 0.4\n"
     ]
    }
   ],
   "source": [
    "# Looking at the result\n",
    "print(\"BMI-Insomnia Ratio:\")\n",
    "for key, value in bmi_insomnia_ratios.items():\n",
    "    print(f\"{key}: {value}\")"
   ]
  }
 ],
 "metadata": {
  "colab": {
   "name": "Welcome to DataCamp Workspaces.ipynb",
   "provenance": []
  },
  "kernelspec": {
   "display_name": "Python 3",
   "language": "python",
   "name": "python3"
  },
  "language_info": {
   "codemirror_mode": {
    "name": "ipython",
    "version": 3
   },
   "file_extension": ".py",
   "mimetype": "text/x-python",
   "name": "python",
   "nbconvert_exporter": "python",
   "pygments_lexer": "ipython3",
   "version": "3.12.3"
  }
 },
 "nbformat": 4,
 "nbformat_minor": 5
}
